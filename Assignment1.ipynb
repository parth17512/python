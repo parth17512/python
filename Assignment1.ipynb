{
 "cells": [
  {
   "cell_type": "code",
   "execution_count": null,
   "id": "48b31f38-cc68-4cf6-a21e-f2f48af2a9d3",
   "metadata": {},
   "outputs": [],
   "source": [
    "#Part 2"
   ]
  },
  {
   "cell_type": "code",
   "execution_count": 1,
   "id": "9f4e803b-7db9-4bd1-af34-7a7bbd99c9e5",
   "metadata": {},
   "outputs": [
    {
     "name": "stdin",
     "output_type": "stream",
     "text": [
      "enter you name - Parth Singh\n"
     ]
    },
    {
     "name": "stdout",
     "output_type": "stream",
     "text": [
      "hgniS htraP\n",
      "hgniS htraP\n"
     ]
    }
   ],
   "source": [
    "#program 1\n",
    "name = input(\"enter you name -\")\n",
    "\n",
    "reverse_string_1= ''.join(reversed(name))\n",
    "# method 1: using reversed() function and then join them back together using join().\n",
    "reverse_string_2= name[::-1]\n",
    "\n",
    "#method 2: using slicing with a step of -1\n",
    "print(reverse_string_1)\n",
    "print(reverse_string_2)"
   ]
  },
  {
   "cell_type": "code",
   "execution_count": 3,
   "id": "32caab41-4609-471b-9a11-38500bd58abf",
   "metadata": {},
   "outputs": [
    {
     "name": "stdin",
     "output_type": "stream",
     "text": [
      "Enter a number:  10\n"
     ]
    },
    {
     "name": "stdout",
     "output_type": "stream",
     "text": [
      "Integer value: 10\n",
      "Float value: 10.0\n",
      "Complex value: (10+0j)\n"
     ]
    }
   ],
   "source": [
    "#Program 2 \n",
    "# Get input from the user\n",
    "num1 = input(\"Enter a number: \")\n",
    "\n",
    "\n",
    "# Convert input to integer\n",
    "integer_value = int(num1)\n",
    "    \n",
    " # Convert input to float\n",
    "float_value = float(num1)\n",
    "    \n",
    "# Convert input to complex\n",
    "complex_value = complex(num1)\n",
    "    \n",
    "# Display the converted values\n",
    "print(f\"Integer value: {integer_value}\")\n",
    "print(f\"Float value: {float_value}\")\n",
    "print(f\"Complex value: {complex_value}\")\n"
   ]
  },
  {
   "cell_type": "code",
   "execution_count": 5,
   "id": "91325bcd-9f50-4922-80fc-2302b2e97c61",
   "metadata": {},
   "outputs": [
    {
     "name": "stdin",
     "output_type": "stream",
     "text": [
      "enter the length of the rectangle-  100\n",
      "enter the width of the rectangle-  80\n"
     ]
    },
    {
     "name": "stdout",
     "output_type": "stream",
     "text": [
      "Area of rectangle is-  8000.00\n"
     ]
    }
   ],
   "source": [
    "#program 3\n",
    "length= float(input(\"enter the length of the rectangle- \"))\n",
    "width= float(input(\"enter the width of the rectangle- \"))\n",
    "\n",
    "area=length*width\n",
    "formatted_area = \"{:.2f}\".format(area)\n",
    "# format the area to two deciaml places\n",
    "print(\"Area of rectangle is- \",formatted_area)"
   ]
  },
  {
   "cell_type": "code",
   "execution_count": 7,
   "id": "b016df5d-2210-49e6-b523-ac375955b4d4",
   "metadata": {},
   "outputs": [
    {
     "name": "stdin",
     "output_type": "stream",
     "text": [
      "enter the first number-  100\n",
      "enter the second number-  120\n",
      "enter the third number-  80\n"
     ]
    },
    {
     "name": "stdout",
     "output_type": "stream",
     "text": [
      "The average of three numbers are- 100.0 \n"
     ]
    }
   ],
   "source": [
    "#program 4\n",
    "num1=int(input(\"enter the first number- \"))\n",
    "num2=int(input(\"enter the second number- \"))\n",
    "num3=int(input(\"enter the third number- \"))\n",
    "\n",
    "average= (num1+num2+num3)/3\n",
    "print(f\"The average of three numbers are- {average} \")"
   ]
  },
  {
   "cell_type": "code",
   "execution_count": null,
   "id": "52f85d17-d1a7-4245-9b7b-ff7814a77000",
   "metadata": {},
   "outputs": [],
   "source": [
    "#part 3"
   ]
  },
  {
   "cell_type": "code",
   "execution_count": 9,
   "id": "495f1c3c-89b1-4b0d-85e1-11678f750cb4",
   "metadata": {},
   "outputs": [
    {
     "name": "stdin",
     "output_type": "stream",
     "text": [
      "Enter a number (or type 'exit' to stop):  150\n"
     ]
    },
    {
     "name": "stdout",
     "output_type": "stream",
     "text": [
      "The number is positive.\n"
     ]
    },
    {
     "name": "stdin",
     "output_type": "stream",
     "text": [
      "Enter a number (or type 'exit' to stop):  456\n"
     ]
    },
    {
     "name": "stdout",
     "output_type": "stream",
     "text": [
      "The number is positive.\n"
     ]
    },
    {
     "name": "stdin",
     "output_type": "stream",
     "text": [
      "Enter a number (or type 'exit' to stop):  432\n"
     ]
    },
    {
     "name": "stdout",
     "output_type": "stream",
     "text": [
      "The number is positive.\n"
     ]
    },
    {
     "name": "stdin",
     "output_type": "stream",
     "text": [
      "Enter a number (or type 'exit' to stop):  exit\n"
     ]
    },
    {
     "name": "stdout",
     "output_type": "stream",
     "text": [
      "Exiting the program. Goodbye!\n"
     ]
    }
   ],
   "source": [
    "#program 1\n",
    "while True:\n",
    "    # Ask the user for input\n",
    "    user_input = input(\"Enter a number (or type 'exit' to stop): \")\n",
    "\n",
    "    # Check if the user wants to exit\n",
    "    if user_input.lower() == \"exit\":\n",
    "        print(\"Exiting the program. Goodbye!\")\n",
    "        break  # Exit the loop\n",
    "\n",
    "    try:\n",
    "        # Convert the input to a float\n",
    "        num = float(user_input)\n",
    "\n",
    "        # Determine if the number is positive, negative, or zero\n",
    "        if num > 0:\n",
    "            print(\"The number is positive.\")\n",
    "        elif num < 0:\n",
    "            print(\"The number is negative.\")\n",
    "        else:\n",
    "            print(\"The number is zero.\")\n",
    "    \n",
    "    except ValueError:\n",
    "        # Handle the case where the input is not a valid number\n",
    "        print(\"That's not a valid number. Please try again.\")\n"
   ]
  },
  {
   "cell_type": "code",
   "execution_count": 11,
   "id": "d96de471-6808-4c72-a7f6-e8c4fbe0e9dc",
   "metadata": {},
   "outputs": [
    {
     "name": "stdin",
     "output_type": "stream",
     "text": [
      "Enter the first number:  15\n",
      "Enter the second number:  78\n"
     ]
    },
    {
     "name": "stdout",
     "output_type": "stream",
     "text": [
      "One number is even and the other is odd.\n"
     ]
    }
   ],
   "source": [
    "#program 2\n",
    "# Take two numbers as input from the user\n",
    "num1 = int(input(\"Enter the first number: \"))\n",
    "num2 = int(input(\"Enter the second number: \"))\n",
    "\n",
    "# Check if both numbers are even\n",
    "if num1 % 2 == 0 and num2 % 2 == 0:\n",
    "    print(\"Both numbers are even.\")\n",
    "\n",
    "# Check if both numbers are odd\n",
    "elif num1 % 2 != 0 and num2 % 2 != 0:\n",
    "    print(\"Both numbers are odd.\")\n",
    "\n",
    "# If one number is even and the other is odd\n",
    "else:\n",
    "    print(\"One number is even and the other is odd.\")\n"
   ]
  },
  {
   "cell_type": "code",
   "execution_count": 13,
   "id": "eef4c46d-6ab9-4706-83ed-978c54f61743",
   "metadata": {},
   "outputs": [
    {
     "name": "stdin",
     "output_type": "stream",
     "text": [
      "Enter an integer:  16\n"
     ]
    },
    {
     "name": "stdout",
     "output_type": "stream",
     "text": [
      "Binary equivalent: 10000\n",
      "Octal equivalent: 20\n",
      "Hexadecimal equivalent: 10\n"
     ]
    }
   ],
   "source": [
    "#program 3\n",
    "# Take an integer input from the user\n",
    "num = int(input(\"Enter an integer: \"))\n",
    "\n",
    "# Function to convert an integer to a binary string using bitwise operators\n",
    "def to_binary(n):\n",
    "    binary = \"\"\n",
    "    for i in range(n.bit_length() - 1, -1, -1):\n",
    "        binary += \"1\" if (n >> i) & 1 else \"0\"\n",
    "    return binary if binary else \"0\"\n",
    "\n",
    "# Function to convert an integer to an octal string using bitwise operators\n",
    "def to_octal(n):\n",
    "    octal = \"\"\n",
    "    for i in range(n.bit_length() // 3 + 1):\n",
    "        octal = str((n >> (i * 3)) & 0b111) + octal\n",
    "    return octal if octal else \"0\"\n",
    "\n",
    "# Function to convert an integer to a hexadecimal string using bitwise operators\n",
    "def to_hexadecimal(n):\n",
    "    hex_digits = \"0123456789ABCDEF\"\n",
    "    hexadecimal = \"\"\n",
    "    for i in range(n.bit_length() // 4 + 1):\n",
    "        hexadecimal = hex_digits[(n >> (i * 4)) & 0b1111] + hexadecimal\n",
    "    return hexadecimal if hexadecimal else \"0\"\n",
    "\n",
    "# Print the binary, octal, and hexadecimal equivalents\n",
    "print(f\"Binary equivalent: {to_binary(num)}\")\n",
    "print(f\"Octal equivalent: {to_octal(num)}\")\n",
    "print(f\"Hexadecimal equivalent: {to_hexadecimal(num)}\")\n"
   ]
  },
  {
   "cell_type": "code",
   "execution_count": null,
   "id": "664f9920-f6da-4596-afa3-512186d6cb8c",
   "metadata": {},
   "outputs": [],
   "source": []
  }
 ],
 "metadata": {
  "kernelspec": {
   "display_name": "Python 3 (ipykernel)",
   "language": "python",
   "name": "python3"
  },
  "language_info": {
   "codemirror_mode": {
    "name": "ipython",
    "version": 3
   },
   "file_extension": ".py",
   "mimetype": "text/x-python",
   "name": "python",
   "nbconvert_exporter": "python",
   "pygments_lexer": "ipython3",
   "version": "3.12.4"
  }
 },
 "nbformat": 4,
 "nbformat_minor": 5
}
